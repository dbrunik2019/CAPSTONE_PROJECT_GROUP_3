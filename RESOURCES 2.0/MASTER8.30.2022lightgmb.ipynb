{
 "cells": [
  {
   "cell_type": "code",
   "execution_count": 1,
   "id": "dcaf2aa5",
   "metadata": {},
   "outputs": [],
   "source": [
    "#dependencies \n",
    "\n",
    "import numpy as np\n",
    "import pandas as pd\n",
    "import csv\n",
    "import matplotlib.pyplot as plt\n",
    "import seaborn as sns\n",
    "pd.set_option('display.max_rows', 500)\n",
    "from sklearn.datasets import make_classification\n",
    "# evaluate lightgbm algorithm for classification\n",
    "from numpy import mean\n",
    "from numpy import std\n",
    "from sklearn.model_selection import cross_val_score\n",
    "from sklearn.model_selection import RepeatedStratifiedKFold\n",
    "from lightgbm import LGBMClassifier\n",
    "from sklearn.model_selection import train_test_split"
   ]
  },
  {
   "cell_type": "code",
   "execution_count": 2,
   "id": "a41648a6",
   "metadata": {},
   "outputs": [],
   "source": [
    "#!pip install lightgbm"
   ]
  },
  {
   "cell_type": "code",
   "execution_count": 3,
   "id": "478cd550",
   "metadata": {},
   "outputs": [
    {
     "data": {
      "text/html": [
       "<div>\n",
       "<style scoped>\n",
       "    .dataframe tbody tr th:only-of-type {\n",
       "        vertical-align: middle;\n",
       "    }\n",
       "\n",
       "    .dataframe tbody tr th {\n",
       "        vertical-align: top;\n",
       "    }\n",
       "\n",
       "    .dataframe thead th {\n",
       "        text-align: right;\n",
       "    }\n",
       "</style>\n",
       "<table border=\"1\" class=\"dataframe\">\n",
       "  <thead>\n",
       "    <tr style=\"text-align: right;\">\n",
       "      <th></th>\n",
       "      <th>Style_Family_ID</th>\n",
       "      <th>StyleID</th>\n",
       "      <th>OG</th>\n",
       "      <th>FG</th>\n",
       "      <th>ABV</th>\n",
       "      <th>IBU</th>\n",
       "      <th>Color</th>\n",
       "    </tr>\n",
       "  </thead>\n",
       "  <tbody>\n",
       "    <tr>\n",
       "      <th>0</th>\n",
       "      <td>1</td>\n",
       "      <td>9</td>\n",
       "      <td>1.040</td>\n",
       "      <td>1.007</td>\n",
       "      <td>4.41</td>\n",
       "      <td>14.69</td>\n",
       "      <td>2.48</td>\n",
       "    </tr>\n",
       "    <tr>\n",
       "      <th>1</th>\n",
       "      <td>1</td>\n",
       "      <td>9</td>\n",
       "      <td>1.033</td>\n",
       "      <td>1.008</td>\n",
       "      <td>3.32</td>\n",
       "      <td>5.55</td>\n",
       "      <td>2.34</td>\n",
       "    </tr>\n",
       "    <tr>\n",
       "      <th>2</th>\n",
       "      <td>1</td>\n",
       "      <td>9</td>\n",
       "      <td>1.048</td>\n",
       "      <td>1.012</td>\n",
       "      <td>4.74</td>\n",
       "      <td>13.95</td>\n",
       "      <td>2.92</td>\n",
       "    </tr>\n",
       "    <tr>\n",
       "      <th>3</th>\n",
       "      <td>1</td>\n",
       "      <td>9</td>\n",
       "      <td>1.038</td>\n",
       "      <td>1.006</td>\n",
       "      <td>4.17</td>\n",
       "      <td>10.32</td>\n",
       "      <td>2.37</td>\n",
       "    </tr>\n",
       "    <tr>\n",
       "      <th>4</th>\n",
       "      <td>1</td>\n",
       "      <td>9</td>\n",
       "      <td>1.049</td>\n",
       "      <td>1.012</td>\n",
       "      <td>4.78</td>\n",
       "      <td>5.54</td>\n",
       "      <td>3.94</td>\n",
       "    </tr>\n",
       "  </tbody>\n",
       "</table>\n",
       "</div>"
      ],
      "text/plain": [
       "   Style_Family_ID  StyleID     OG     FG   ABV    IBU  Color\n",
       "0                1        9  1.040  1.007  4.41  14.69   2.48\n",
       "1                1        9  1.033  1.008  3.32   5.55   2.34\n",
       "2                1        9  1.048  1.012  4.74  13.95   2.92\n",
       "3                1        9  1.038  1.006  4.17  10.32   2.37\n",
       "4                1        9  1.049  1.012  4.78   5.54   3.94"
      ]
     },
     "execution_count": 3,
     "metadata": {},
     "output_type": "execute_result"
    }
   ],
   "source": [
    "recipes_df = pd.read_csv('final_recipes_dataset _ML.csv', encoding='latin-1')\n",
    "recipes_df.head()"
   ]
  },
  {
   "cell_type": "code",
   "execution_count": 4,
   "id": "d632dd9c",
   "metadata": {},
   "outputs": [],
   "source": [
    "y = recipes_df[['Style_Family_ID']]\n",
    "X = recipes_df[['OG','FG','ABV','IBU','Color']]"
   ]
  },
  {
   "cell_type": "code",
   "execution_count": 5,
   "id": "66dc2512",
   "metadata": {},
   "outputs": [],
   "source": [
    "model = LGBMClassifier()\n",
    "# evaluate the model\n",
    "cv = RepeatedStratifiedKFold(n_splits=10, n_repeats=3, random_state=1)\n",
    "n_scores = cross_val_score(model, X, y, scoring='accuracy', cv=cv, n_jobs=-1)"
   ]
  },
  {
   "cell_type": "code",
   "execution_count": 6,
   "id": "c3f766e9",
   "metadata": {
    "scrolled": true
   },
   "outputs": [
    {
     "name": "stdout",
     "output_type": "stream",
     "text": [
      "Accuracy: 0.668 (0.005)\n"
     ]
    }
   ],
   "source": [
    "# report performance\n",
    "print('Accuracy: %.3f (%.3f)' % (mean(n_scores), std(n_scores)))"
   ]
  },
  {
   "cell_type": "code",
   "execution_count": null,
   "id": "eaef0f75",
   "metadata": {},
   "outputs": [],
   "source": []
  },
  {
   "cell_type": "code",
   "execution_count": 7,
   "id": "4dcf07c2",
   "metadata": {},
   "outputs": [],
   "source": [
    "X_train, X_test, y_train, y_test = train_test_split(X, y, random_state=1, stratify=y)\n"
   ]
  },
  {
   "cell_type": "code",
   "execution_count": 8,
   "id": "20b2e724",
   "metadata": {},
   "outputs": [],
   "source": [
    "model = LGBMClassifier(boosting_type = 'dart', num_leaves = '100',)\n",
    "# evaluate the model\n",
    "cv = RepeatedStratifiedKFold(n_splits=10, n_repeats=3, random_state=1)\n",
    "n_scores = cross_val_score(model, X_train, y_train, scoring='accuracy', cv=cv, n_jobs=-1)"
   ]
  },
  {
   "cell_type": "code",
   "execution_count": 9,
   "id": "8dd32593",
   "metadata": {},
   "outputs": [
    {
     "name": "stdout",
     "output_type": "stream",
     "text": [
      "[0.66231392 0.65500131 0.66257508 0.65865761 0.66388091 0.66962653\n",
      " 0.65865761 0.67171585 0.66205276 0.67110763 0.67589449 0.66283625\n",
      " 0.65839645 0.66623139 0.66884304 0.66388091 0.67119352 0.65186733\n",
      " 0.66701489 0.65491118 0.6610081  0.6795508  0.66727605 0.66361974\n",
      " 0.66153043 0.6602246  0.65917994 0.66884304 0.68007313 0.66666667]\n"
     ]
    }
   ],
   "source": [
    "print(n_scores)"
   ]
  },
  {
   "cell_type": "code",
   "execution_count": 10,
   "id": "f3d17a51",
   "metadata": {},
   "outputs": [
    {
     "name": "stderr",
     "output_type": "stream",
     "text": [
      "C:\\Users\\Dbrunik\\Anaconda3\\envs\\mlenv\\lib\\site-packages\\sklearn\\preprocessing\\_label.py:98: DataConversionWarning: A column-vector y was passed when a 1d array was expected. Please change the shape of y to (n_samples, ), for example using ravel().\n",
      "  y = column_or_1d(y, warn=True)\n",
      "C:\\Users\\Dbrunik\\Anaconda3\\envs\\mlenv\\lib\\site-packages\\sklearn\\preprocessing\\_label.py:133: DataConversionWarning: A column-vector y was passed when a 1d array was expected. Please change the shape of y to (n_samples, ), for example using ravel().\n",
      "  y = column_or_1d(y, warn=True)\n"
     ]
    },
    {
     "data": {
      "text/plain": [
       "LGBMClassifier(boosting_type='dart', num_leaves='100')"
      ]
     },
     "execution_count": 10,
     "metadata": {},
     "output_type": "execute_result"
    }
   ],
   "source": [
    "# fit the model on the whole dataset\n",
    "model.fit(X_train, y_train)"
   ]
  },
  {
   "cell_type": "code",
   "execution_count": 11,
   "id": "2fb8b287",
   "metadata": {},
   "outputs": [
    {
     "data": {
      "text/plain": [
       "0.7647627255869832"
      ]
     },
     "execution_count": 11,
     "metadata": {},
     "output_type": "execute_result"
    }
   ],
   "source": [
    "model.score(X_train, y_train)"
   ]
  },
  {
   "cell_type": "code",
   "execution_count": 12,
   "id": "c2831d31",
   "metadata": {},
   "outputs": [
    {
     "data": {
      "text/plain": [
       "0.6584926355374491"
      ]
     },
     "execution_count": 12,
     "metadata": {},
     "output_type": "execute_result"
    }
   ],
   "source": [
    "model.score(X_test, y_test)"
   ]
  },
  {
   "cell_type": "code",
   "execution_count": null,
   "id": "aa57fa84",
   "metadata": {},
   "outputs": [],
   "source": []
  },
  {
   "cell_type": "code",
   "execution_count": 13,
   "id": "8435d7f9",
   "metadata": {},
   "outputs": [
    {
     "data": {
      "text/plain": [
       "array([[0.00947498, 0.00563565, 0.00405962, 0.0060413 , 0.13456034,\n",
       "        0.0038315 , 0.01701525, 0.81632849, 0.00305287]])"
      ]
     },
     "execution_count": 13,
     "metadata": {},
     "output_type": "execute_result"
    }
   ],
   "source": [
    "# make a single prediction\n",
    "row = [1.063,1.021,5.56,33.57,36.93]\n",
    "yhat = model.predict_proba([row])\n",
    "#print('Predicted Class: %d' % yhat[0])\n",
    "yhat"
   ]
  },
  {
   "cell_type": "code",
   "execution_count": 16,
   "id": "769c5c46",
   "metadata": {},
   "outputs": [],
   "source": [
    "import pickle\n",
    "from joblib import Parallel, delayed\n",
    "import joblib\n",
    "# Save the trained model as a pickle string.\n",
    "saved_model = pickle.dumps(model)\n",
    "  \n",
    "# Load the pickled model\n",
    "#model_from_pickle = pickle.loads(saved_model)\n",
    "  \n",
    "# Use the loaded pickled model to make predictions\n",
    "#model_from_pickle.predict(X_test)"
   ]
  },
  {
   "cell_type": "code",
   "execution_count": null,
   "id": "219b918b",
   "metadata": {},
   "outputs": [],
   "source": []
  },
  {
   "cell_type": "code",
   "execution_count": 17,
   "id": "ea77e468",
   "metadata": {},
   "outputs": [
    {
     "data": {
      "text/plain": [
       "['lightgmb.pkl']"
      ]
     },
     "execution_count": 17,
     "metadata": {},
     "output_type": "execute_result"
    }
   ],
   "source": [
    "# Save the model as a pickle in a file\n",
    "joblib.dump(model, 'lightgmb.pkl')"
   ]
  },
  {
   "cell_type": "code",
   "execution_count": null,
   "id": "c0d7542e",
   "metadata": {},
   "outputs": [],
   "source": []
  },
  {
   "cell_type": "code",
   "execution_count": null,
   "id": "deb6f92e",
   "metadata": {},
   "outputs": [],
   "source": []
  }
 ],
 "metadata": {
  "kernelspec": {
   "display_name": "mlenv",
   "language": "python",
   "name": "mlenv"
  },
  "language_info": {
   "codemirror_mode": {
    "name": "ipython",
    "version": 3
   },
   "file_extension": ".py",
   "mimetype": "text/x-python",
   "name": "python",
   "nbconvert_exporter": "python",
   "pygments_lexer": "ipython3",
   "version": "3.7.13"
  }
 },
 "nbformat": 4,
 "nbformat_minor": 5
}
