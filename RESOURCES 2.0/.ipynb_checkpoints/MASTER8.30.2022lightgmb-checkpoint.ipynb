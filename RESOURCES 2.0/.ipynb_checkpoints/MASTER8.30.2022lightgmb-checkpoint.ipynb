{
 "cells": [
  {
   "cell_type": "code",
   "execution_count": 1,
   "id": "dcaf2aa5",
   "metadata": {},
   "outputs": [],
   "source": [
    "#dependencies \n",
    "\n",
    "import numpy as np\n",
    "import pandas as pd\n",
    "import csv\n",
    "import matplotlib.pyplot as plt\n",
    "import seaborn as sns\n",
    "pd.set_option('display.max_rows', 500)\n",
    "from sklearn.datasets import make_classification\n",
    "# evaluate lightgbm algorithm for classification\n",
    "from numpy import mean\n",
    "from numpy import std\n",
    "from sklearn.model_selection import cross_val_score\n",
    "from sklearn.model_selection import RepeatedStratifiedKFold\n",
    "from lightgbm import LGBMClassifier\n",
    "from sklearn.model_selection import train_test_split"
   ]
  },
  {
   "cell_type": "code",
   "execution_count": 2,
   "id": "a41648a6",
   "metadata": {},
   "outputs": [],
   "source": [
    "#!pip install lightgbm"
   ]
  },
  {
   "cell_type": "code",
   "execution_count": 3,
   "id": "478cd550",
   "metadata": {},
   "outputs": [
    {
     "data": {
      "text/html": [
       "<div>\n",
       "<style scoped>\n",
       "    .dataframe tbody tr th:only-of-type {\n",
       "        vertical-align: middle;\n",
       "    }\n",
       "\n",
       "    .dataframe tbody tr th {\n",
       "        vertical-align: top;\n",
       "    }\n",
       "\n",
       "    .dataframe thead th {\n",
       "        text-align: right;\n",
       "    }\n",
       "</style>\n",
       "<table border=\"1\" class=\"dataframe\">\n",
       "  <thead>\n",
       "    <tr style=\"text-align: right;\">\n",
       "      <th></th>\n",
       "      <th>Style_Family_ID</th>\n",
       "      <th>StyleID</th>\n",
       "      <th>OG</th>\n",
       "      <th>FG</th>\n",
       "      <th>ABV</th>\n",
       "      <th>IBU</th>\n",
       "      <th>Color</th>\n",
       "    </tr>\n",
       "  </thead>\n",
       "  <tbody>\n",
       "    <tr>\n",
       "      <th>0</th>\n",
       "      <td>1</td>\n",
       "      <td>9</td>\n",
       "      <td>1.040</td>\n",
       "      <td>1.007</td>\n",
       "      <td>4.41</td>\n",
       "      <td>14.69</td>\n",
       "      <td>2.48</td>\n",
       "    </tr>\n",
       "    <tr>\n",
       "      <th>1</th>\n",
       "      <td>1</td>\n",
       "      <td>9</td>\n",
       "      <td>1.033</td>\n",
       "      <td>1.008</td>\n",
       "      <td>3.32</td>\n",
       "      <td>5.55</td>\n",
       "      <td>2.34</td>\n",
       "    </tr>\n",
       "    <tr>\n",
       "      <th>2</th>\n",
       "      <td>1</td>\n",
       "      <td>9</td>\n",
       "      <td>1.048</td>\n",
       "      <td>1.012</td>\n",
       "      <td>4.74</td>\n",
       "      <td>13.95</td>\n",
       "      <td>2.92</td>\n",
       "    </tr>\n",
       "    <tr>\n",
       "      <th>3</th>\n",
       "      <td>1</td>\n",
       "      <td>9</td>\n",
       "      <td>1.038</td>\n",
       "      <td>1.006</td>\n",
       "      <td>4.17</td>\n",
       "      <td>10.32</td>\n",
       "      <td>2.37</td>\n",
       "    </tr>\n",
       "    <tr>\n",
       "      <th>4</th>\n",
       "      <td>1</td>\n",
       "      <td>9</td>\n",
       "      <td>1.049</td>\n",
       "      <td>1.012</td>\n",
       "      <td>4.78</td>\n",
       "      <td>5.54</td>\n",
       "      <td>3.94</td>\n",
       "    </tr>\n",
       "  </tbody>\n",
       "</table>\n",
       "</div>"
      ],
      "text/plain": [
       "   Style_Family_ID  StyleID     OG     FG   ABV    IBU  Color\n",
       "0                1        9  1.040  1.007  4.41  14.69   2.48\n",
       "1                1        9  1.033  1.008  3.32   5.55   2.34\n",
       "2                1        9  1.048  1.012  4.74  13.95   2.92\n",
       "3                1        9  1.038  1.006  4.17  10.32   2.37\n",
       "4                1        9  1.049  1.012  4.78   5.54   3.94"
      ]
     },
     "execution_count": 3,
     "metadata": {},
     "output_type": "execute_result"
    }
   ],
   "source": [
    "recipes_df = pd.read_csv('final_recipes_dataset _ML.csv', encoding='latin-1')\n",
    "recipes_df.head()"
   ]
  },
  {
   "cell_type": "code",
   "execution_count": 4,
   "id": "d632dd9c",
   "metadata": {},
   "outputs": [],
   "source": [
    "y = recipes_df[['Style_Family_ID']]\n",
    "X = recipes_df[['OG','FG','ABV','IBU','Color']]"
   ]
  },
  {
   "cell_type": "code",
   "execution_count": 5,
   "id": "66dc2512",
   "metadata": {},
   "outputs": [],
   "source": [
    "model = LGBMClassifier()\n",
    "# evaluate the model\n",
    "cv = RepeatedStratifiedKFold(n_splits=10, n_repeats=3, random_state=1)\n",
    "n_scores = cross_val_score(model, X, y, scoring='accuracy', cv=cv, n_jobs=-1)"
   ]
  },
  {
   "cell_type": "code",
   "execution_count": 6,
   "id": "c3f766e9",
   "metadata": {
    "scrolled": true
   },
   "outputs": [
    {
     "name": "stdout",
     "output_type": "stream",
     "text": [
      "Accuracy: 0.668 (0.005)\n"
     ]
    }
   ],
   "source": [
    "# report performance\n",
    "print('Accuracy: %.3f (%.3f)' % (mean(n_scores), std(n_scores)))"
   ]
  },
  {
   "cell_type": "code",
   "execution_count": 7,
   "id": "4dcf07c2",
   "metadata": {},
   "outputs": [],
   "source": [
    "X_train, X_test, y_train, y_test = train_test_split(X, y, random_state=1, stratify=y)\n"
   ]
  },
  {
   "cell_type": "code",
   "execution_count": null,
   "id": "20b2e724",
   "metadata": {},
   "outputs": [],
   "source": [
    "model = LGBMClassifier(boosting_type = 'dart', num_leaves = '100',)\n",
    "# evaluate the model\n",
    "cv = RepeatedStratifiedKFold(n_splits=10, n_repeats=3, random_state=1)\n",
    "n_scores = cross_val_score(model, X_train, y_train, scoring='accuracy', cv=cv, n_jobs=-1)"
   ]
  },
  {
   "cell_type": "code",
   "execution_count": null,
   "id": "8dd32593",
   "metadata": {},
   "outputs": [],
   "source": [
    "print(n_scores)"
   ]
  },
  {
   "cell_type": "code",
   "execution_count": null,
   "id": "f3d17a51",
   "metadata": {},
   "outputs": [],
   "source": [
    "# fit the model on the whole dataset\n",
    "model.fit(X_train, y_train)"
   ]
  },
  {
   "cell_type": "code",
   "execution_count": null,
   "id": "2fb8b287",
   "metadata": {},
   "outputs": [],
   "source": [
    "model.score(X_train, y_train)"
   ]
  },
  {
   "cell_type": "code",
   "execution_count": null,
   "id": "c2831d31",
   "metadata": {},
   "outputs": [],
   "source": [
    "model.score(X_test, y_test)"
   ]
  },
  {
   "cell_type": "code",
   "execution_count": null,
   "id": "aa57fa84",
   "metadata": {},
   "outputs": [],
   "source": [
    "final_style_family = pd.read_csv('final_style_family.csv')\n",
    "final_style_family.head()\n"
   ]
  },
  {
   "cell_type": "code",
   "execution_count": null,
   "id": "78cc933a",
   "metadata": {},
   "outputs": [],
   "source": [
    "mylist = final_style_family['Style_Family_ID']\n",
    "mylist"
   ]
  },
  {
   "cell_type": "code",
   "execution_count": null,
   "id": "8435d7f9",
   "metadata": {},
   "outputs": [],
   "source": [
    "# make a single prediction\n",
    "row = [1.063,1.021,5.56,33.57,36.93]\n",
    "yhat = model.predict_proba([row])\n",
    "#print('Predicted Class: %d' % yhat[0])\n",
    "yhat"
   ]
  },
  {
   "cell_type": "code",
   "execution_count": null,
   "id": "1a19bb7f",
   "metadata": {},
   "outputs": [],
   "source": [
    "type(yhat)"
   ]
  },
  {
   "cell_type": "code",
   "execution_count": null,
   "id": "af8a6edf",
   "metadata": {},
   "outputs": [],
   "source": [
    "[new_list] = yhat\n",
    "print(new_list)\n",
    "\n",
    "max_value = max(new_list)\n",
    "print(max_value)\n",
    "type(new_list)\n",
    "\n",
    "print(new_list.argmax())"
   ]
  },
  {
   "cell_type": "code",
   "execution_count": null,
   "id": "a0dd7d27",
   "metadata": {},
   "outputs": [],
   "source": [
    "result = new_list.argmax() + 1 \n",
    "print(result)"
   ]
  },
  {
   "cell_type": "code",
   "execution_count": null,
   "id": "5afa749f",
   "metadata": {},
   "outputs": [],
   "source": [
    "max_value = np.max(yhat)\n",
    "print('Maximum value of the array is',max_value)"
   ]
  },
  {
   "cell_type": "code",
   "execution_count": null,
   "id": "769c5c46",
   "metadata": {},
   "outputs": [],
   "source": [
    "import pickle\n",
    "\n",
    "\n",
    "# Save the trained model as a pickle string.\n",
    "pickle.dump(model, open(filename, 'light'))\n",
    "  \n",
    "# Load the pickled model\n",
    "#model_from_pickle = pickle.loads(saved_model)\n",
    "  \n",
    "# Use the loaded pickled model to make predictions\n",
    "#model_from_pickle.predict(X_test)"
   ]
  },
  {
   "cell_type": "code",
   "execution_count": null,
   "id": "219b918b",
   "metadata": {},
   "outputs": [],
   "source": []
  },
  {
   "cell_type": "code",
   "execution_count": null,
   "id": "ea77e468",
   "metadata": {},
   "outputs": [],
   "source": [
    "# Save the model as a pickle in a file\n",
    "joblib.dump(model, 'lightgmb.pkl')"
   ]
  },
  {
   "cell_type": "code",
   "execution_count": null,
   "id": "c0d7542e",
   "metadata": {},
   "outputs": [],
   "source": []
  },
  {
   "cell_type": "code",
   "execution_count": null,
   "id": "deb6f92e",
   "metadata": {},
   "outputs": [],
   "source": []
  }
 ],
 "metadata": {
  "kernelspec": {
   "display_name": "mlenv",
   "language": "python",
   "name": "mlenv"
  },
  "language_info": {
   "codemirror_mode": {
    "name": "ipython",
    "version": 3
   },
   "file_extension": ".py",
   "mimetype": "text/x-python",
   "name": "python",
   "nbconvert_exporter": "python",
   "pygments_lexer": "ipython3",
   "version": "3.7.13"
  }
 },
 "nbformat": 4,
 "nbformat_minor": 5
}
